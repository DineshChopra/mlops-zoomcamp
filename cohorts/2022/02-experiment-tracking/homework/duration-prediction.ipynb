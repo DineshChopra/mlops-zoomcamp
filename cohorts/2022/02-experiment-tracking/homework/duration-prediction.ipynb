{
 "cells": [
  {
   "cell_type": "code",
   "execution_count": 1,
   "id": "d5feba28",
   "metadata": {},
   "outputs": [
    {
     "name": "stdout",
     "output_type": "stream",
     "text": [
      "mlflow, version 2.3.1\r\n"
     ]
    }
   ],
   "source": [
    "!mlflow --version"
   ]
  },
  {
   "cell_type": "code",
   "execution_count": 2,
   "id": "94af8522",
   "metadata": {},
   "outputs": [],
   "source": [
    "jan_data_uri = \"https://d37ci6vzurychx.cloudfront.net/trip-data/green_tripdata_2021-01.parquet\"\n",
    "feb_data_uri = \"https://d37ci6vzurychx.cloudfront.net/trip-data/green_tripdata_2021-02.parquet\"\n",
    "mar_data_uri = \"https://d37ci6vzurychx.cloudfront.net/trip-data/green_tripdata_2021-03.parquet\""
   ]
  },
  {
   "cell_type": "code",
   "execution_count": 3,
   "id": "10eb3c91",
   "metadata": {},
   "outputs": [
    {
     "name": "stdout",
     "output_type": "stream",
     "text": [
      "--2023-10-12 19:21:52--  https://d37ci6vzurychx.cloudfront.net/trip-data/green_tripdata_2021-01.parquet\n",
      "Resolving d37ci6vzurychx.cloudfront.net (d37ci6vzurychx.cloudfront.net)... 2600:9000:269b:ca00:b:20a5:b140:21, 2600:9000:269b:1a00:b:20a5:b140:21, 2600:9000:269b:8000:b:20a5:b140:21, ...\n",
      "Connecting to d37ci6vzurychx.cloudfront.net (d37ci6vzurychx.cloudfront.net)|2600:9000:269b:ca00:b:20a5:b140:21|:443... connected.\n",
      "HTTP request sent, awaiting response... 200 OK\n",
      "Length: 1333519 (1.3M) [binary/octet-stream]\n",
      "Saving to: ‘green_tripdata_2021-01.parquet’\n",
      "\n",
      "green_tripdata_2021 100%[===================>]   1.27M  1.10MB/s    in 1.2s    \n",
      "\n",
      "2023-10-12 19:21:55 (1.10 MB/s) - ‘green_tripdata_2021-01.parquet’ saved [1333519/1333519]\n",
      "\n",
      "--2023-10-12 19:21:55--  http://./data\n",
      "Resolving . (.)... failed: nodename nor servname provided, or not known.\n",
      "wget: unable to resolve host address ‘.’\n",
      "FINISHED --2023-10-12 19:21:55--\n",
      "Total wall clock time: 2.4s\n",
      "Downloaded: 1 files, 1.3M in 1.2s (1.10 MB/s)\n"
     ]
    }
   ],
   "source": [
    "!wget $jan_data_uri"
   ]
  },
  {
   "cell_type": "code",
   "execution_count": 4,
   "id": "cc91cfeb",
   "metadata": {},
   "outputs": [
    {
     "name": "stdout",
     "output_type": "stream",
     "text": [
      "--2023-10-12 19:22:34--  https://d37ci6vzurychx.cloudfront.net/trip-data/green_tripdata_2021-02.parquet\n",
      "Resolving d37ci6vzurychx.cloudfront.net (d37ci6vzurychx.cloudfront.net)... 2600:9000:269b:c200:b:20a5:b140:21, 2600:9000:269b:1a00:b:20a5:b140:21, 2600:9000:269b:9c00:b:20a5:b140:21, ...\n",
      "Connecting to d37ci6vzurychx.cloudfront.net (d37ci6vzurychx.cloudfront.net)|2600:9000:269b:c200:b:20a5:b140:21|:443... connected.\n",
      "HTTP request sent, awaiting response... 200 OK\n",
      "Length: 1145679 (1.1M) [binary/octet-stream]\n",
      "Saving to: ‘green_tripdata_2021-02.parquet’\n",
      "\n",
      "green_tripdata_2021 100%[===================>]   1.09M  1.27MB/s    in 0.9s    \n",
      "\n",
      "2023-10-12 19:22:36 (1.27 MB/s) - ‘green_tripdata_2021-02.parquet’ saved [1145679/1145679]\n",
      "\n",
      "--2023-10-12 19:22:36--  https://d37ci6vzurychx.cloudfront.net/trip-data/green_tripdata_2021-03.parquet\n",
      "Resolving d37ci6vzurychx.cloudfront.net (d37ci6vzurychx.cloudfront.net)... 2600:9000:269b:8000:b:20a5:b140:21, 2600:9000:269b:1a00:b:20a5:b140:21, 2600:9000:269b:9c00:b:20a5:b140:21, ...\n",
      "Connecting to d37ci6vzurychx.cloudfront.net (d37ci6vzurychx.cloudfront.net)|2600:9000:269b:8000:b:20a5:b140:21|:443... connected.\n",
      "HTTP request sent, awaiting response... 200 OK\n",
      "Length: 1474538 (1.4M) [binary/octet-stream]\n",
      "Saving to: ‘green_tripdata_2021-03.parquet’\n",
      "\n",
      "green_tripdata_2021 100%[===================>]   1.41M  1.82MB/s    in 0.8s    \n",
      "\n",
      "2023-10-12 19:22:37 (1.82 MB/s) - ‘green_tripdata_2021-03.parquet’ saved [1474538/1474538]\n",
      "\n"
     ]
    }
   ],
   "source": [
    "!wget $feb_data_uri\n",
    "!wget $mar_data_uri"
   ]
  },
  {
   "cell_type": "code",
   "execution_count": 5,
   "id": "2f2623ac",
   "metadata": {},
   "outputs": [],
   "source": [
    "!mv *.parquet ./data"
   ]
  },
  {
   "cell_type": "code",
   "execution_count": 6,
   "id": "4bbf1c08",
   "metadata": {},
   "outputs": [],
   "source": [
    "!python preprocess_data.py --raw_data_path ./data --dest_path ./output"
   ]
  },
  {
   "cell_type": "code",
   "execution_count": null,
   "id": "80cf7712",
   "metadata": {},
   "outputs": [],
   "source": []
  }
 ],
 "metadata": {
  "kernelspec": {
   "display_name": "Python 3 (ipykernel)",
   "language": "python",
   "name": "python3"
  },
  "language_info": {
   "codemirror_mode": {
    "name": "ipython",
    "version": 3
   },
   "file_extension": ".py",
   "mimetype": "text/x-python",
   "name": "python",
   "nbconvert_exporter": "python",
   "pygments_lexer": "ipython3",
   "version": "3.10.9"
  }
 },
 "nbformat": 4,
 "nbformat_minor": 5
}
