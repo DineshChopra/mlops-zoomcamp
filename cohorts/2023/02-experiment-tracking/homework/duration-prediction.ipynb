{
 "cells": [
  {
   "cell_type": "code",
   "execution_count": 1,
   "id": "bbe503ac",
   "metadata": {},
   "outputs": [
    {
     "name": "stdout",
     "output_type": "stream",
     "text": [
      "Python 3.10.9\r\n"
     ]
    }
   ],
   "source": [
    "!python -V"
   ]
  },
  {
   "cell_type": "code",
   "execution_count": 2,
   "id": "edb776be",
   "metadata": {},
   "outputs": [],
   "source": [
    "import pandas as pd"
   ]
  },
  {
   "cell_type": "code",
   "execution_count": 10,
   "id": "10643dab",
   "metadata": {},
   "outputs": [],
   "source": [
    "import pickle\n",
    "\n",
    "import seaborn as sns\n",
    "import matplotlib.pyplot as plt\n",
    "\n",
    "from sklearn.feature_extraction import DictVectorizer\n",
    "from sklearn.linear_model import LinearRegression\n",
    "from sklearn.linear_model import Lasso\n",
    "from sklearn.linear_model import Ridge\n",
    "\n",
    "from sklearn.metrics import mean_squared_error\n",
    "\n"
   ]
  },
  {
   "cell_type": "code",
   "execution_count": 4,
   "id": "3f6eda9b",
   "metadata": {},
   "outputs": [
    {
     "name": "stderr",
     "output_type": "stream",
     "text": [
      "2023/05/25 05:29:38 INFO mlflow.tracking.fluent: Experiment with name 'experiment_week2' does not exist. Creating a new experiment.\n"
     ]
    },
    {
     "data": {
      "text/plain": [
       "<Experiment: artifact_location='/Users/dineshchopra/Documents/Dinesh/practical/mlops-zoomcamp/homework/week2/mlruns/1', creation_time=1684972778949, experiment_id='1', last_update_time=1684972778949, lifecycle_stage='active', name='experiment_week2', tags={}>"
      ]
     },
     "execution_count": 4,
     "metadata": {},
     "output_type": "execute_result"
    }
   ],
   "source": [
    "import mlflow\n",
    "\n",
    "mlflow_tracking_uri = \"sqlite:///mlflow.db\"\n",
    "mlflow.set_tracking_uri(mlflow_tracking_uri)\n",
    "mlflow.set_experiment(\"experiment_week2\")"
   ]
  },
  {
   "cell_type": "code",
   "execution_count": 11,
   "id": "9c851c2a",
   "metadata": {},
   "outputs": [],
   "source": [
    "df = pd.read_parquet('./data/green_tripdata_2021-01.parquet')\n",
    "\n",
    "df['duration'] = df.lpep_dropoff_datetime - df.lpep_pickup_datetime\n",
    "df.duration = df.duration.apply(lambda td: td.total_seconds() / 60)\n",
    "\n",
    "df = df[(df.duration >= 1) & (df.duration <= 60)]\n",
    "\n",
    "categorical = ['PULocationID', 'DOLocationID']\n",
    "numerical = ['trip_distance']\n",
    "\n",
    "df[categorical] = df[categorical].astype(str)"
   ]
  },
  {
   "cell_type": "code",
   "execution_count": 12,
   "id": "2baa4b10",
   "metadata": {},
   "outputs": [
    {
     "data": {
      "text/plain": [
       "9.827368941909366"
      ]
     },
     "execution_count": 12,
     "metadata": {},
     "output_type": "execute_result"
    }
   ],
   "source": [
    "train_dicts = df[categorical + numerical].to_dict(orient='records')\n",
    "\n",
    "dv = DictVectorizer()\n",
    "X_train = dv.fit_transform(train_dicts)\n",
    "\n",
    "target = 'duration'\n",
    "y_train = df[target].values\n",
    "\n",
    "lr = LinearRegression()\n",
    "lr.fit(X_train, y_train)\n",
    "\n",
    "y_pred = lr.predict(X_train)\n",
    "\n",
    "mean_squared_error(y_train, y_pred, squared=False)"
   ]
  },
  {
   "cell_type": "code",
   "execution_count": 14,
   "id": "af5b656d",
   "metadata": {},
   "outputs": [
    {
     "data": {
      "text/plain": [
       "<matplotlib.legend.Legend at 0x7fcd65fa52a0>"
      ]
     },
     "execution_count": 14,
     "metadata": {},
     "output_type": "execute_result"
    },
    {
     "data": {
      "image/png": "[encoded data removed]",
      "text/plain": [
       "<Figure size 640x480 with 1 Axes>"
      ]
     },
     "metadata": {},
     "output_type": "display_data"
    }
   ],
   "source": [
    "sns.histplot(y_pred, label='prediction')\n",
    "sns.histplot(y_train, label='actual')\n",
    "\n",
    "plt.legend()"
   ]
  },
  {
   "cell_type": "code",
   "execution_count": 15,
   "id": "973c764d",
   "metadata": {},
   "outputs": [],
   "source": [
    "def read_dataframe(filename):\n",
    "    if filename.endswith('.csv'):\n",
    "        df = pd.read_csv(filename)\n",
    "\n",
    "        df.lpep_dropoff_datetime = pd.to_datetime(df.lpep_dropoff_datetime)\n",
    "        df.lpep_pickup_datetime = pd.to_datetime(df.lpep_pickup_datetime)\n",
    "    elif filename.endswith('.parquet'):\n",
    "        df = pd.read_parquet(filename)\n",
    "\n",
    "    df['duration'] = df.lpep_dropoff_datetime - df.lpep_pickup_datetime\n",
    "    df.duration = df.duration.apply(lambda td: td.total_seconds() / 60)\n",
    "\n",
    "    df = df[(df.duration >= 1) & (df.duration <= 60)]\n",
    "\n",
    "    categorical = ['PULocationID', 'DOLocationID']\n",
    "    df[categorical] = df[categorical].astype(str)\n",
    "    \n",
    "    return df"
   ]
  },
  {
   "cell_type": "code",
   "execution_count": 16,
   "id": "082f97d3",
   "metadata": {},
   "outputs": [],
   "source": [
    "df_train = read_dataframe('./data/green_tripdata_2021-01.parquet')\n",
    "df_val = read_dataframe('./data/green_tripdata_2021-02.parquet')"
   ]
  },
  {
   "cell_type": "code",
   "execution_count": 17,
   "id": "253f0dde",
   "metadata": {},
   "outputs": [
    {
     "data": {
      "text/plain": [
       "(73908, 61921)"
      ]
     },
     "execution_count": 17,
     "metadata": {},
     "output_type": "execute_result"
    }
   ],
   "source": [
    "len(df_train), len(df_val)"
   ]
  },
  {
   "cell_type": "code",
   "execution_count": 18,
   "id": "9226a901",
   "metadata": {},
   "outputs": [],
   "source": [
    "df_train['PU_DO'] = df_train['PULocationID'] + '_' + df_train['DOLocationID']\n",
    "df_val['PU_DO'] = df_val['PULocationID'] + '_' + df_val['DOLocationID']"
   ]
  },
  {
   "cell_type": "code",
   "execution_count": 19,
   "id": "0e4132d0",
   "metadata": {},
   "outputs": [],
   "source": [
    "categorical = ['PU_DO'] #'PULocationID', 'DOLocationID']\n",
    "numerical = ['trip_distance']\n",
    "\n",
    "dv = DictVectorizer()\n",
    "\n",
    "train_dicts = df_train[categorical + numerical].to_dict(orient='records')\n",
    "X_train = dv.fit_transform(train_dicts)\n",
    "\n",
    "val_dicts = df_val[categorical + numerical].to_dict(orient='records')\n",
    "X_val = dv.transform(val_dicts)"
   ]
  },
  {
   "cell_type": "code",
   "execution_count": 20,
   "id": "25e28a1d",
   "metadata": {},
   "outputs": [],
   "source": [
    "target = 'duration'\n",
    "y_train = df_train[target].values\n",
    "y_val = df_val[target].values"
   ]
  },
  {
   "cell_type": "code",
   "execution_count": 21,
   "id": "3506db38",
   "metadata": {},
   "outputs": [
    {
     "data": {
      "text/plain": [
       "7.758715206462274"
      ]
     },
     "execution_count": 21,
     "metadata": {},
     "output_type": "execute_result"
    }
   ],
   "source": [
    "lr = LinearRegression()\n",
    "lr.fit(X_train, y_train)\n",
    "\n",
    "y_pred = lr.predict(X_val)\n",
    "\n",
    "mean_squared_error(y_val, y_pred, squared=False)"
   ]
  },
  {
   "cell_type": "code",
   "execution_count": 22,
   "id": "e723b246",
   "metadata": {},
   "outputs": [],
   "source": [
    "with open('models/lin_reg.bin', 'wb') as f_out:\n",
    "    pickle.dump((dv, lr), f_out)"
   ]
  },
  {
   "cell_type": "code",
   "execution_count": 45,
   "id": "154de448",
   "metadata": {},
   "outputs": [],
   "source": [
    "with mlflow.start_run():\n",
    "    mlflow.set_tag(\"developer\", \"Dinesh\")\n",
    "    mlflow.log_param(\"train-data-path\", \"./data/green_tripdata_2021-01.parquet\")\n",
    "    mlflow.log_param(\"valid-data-path\", \"./data/green_tripdata_2021-02.parquet\")\n",
    "    alpha = 0.01\n",
    "    mlflow.log_param(\"alpha\", alpha)\n",
    "    \n",
    "    lr = Lasso(alpha)\n",
    "    lr.fit(X_train, y_train)\n",
    "\n",
    "    y_pred = lr.predict(X_val)\n",
    "\n",
    "    rmse = mean_squared_error(y_val, y_pred, squared=False)\n",
    "    mlflow.log_metric(\"rmse\", rmse)\n",
    "    mlflow.log_artifact(local_path=\"models/lin_reg.bin\", artifact_path=\"models_pickel\")\n",
    "#     mlflow.log_artifact(local_path=\"models/lin_reg.bin\", artifact_path=\"models_pickle\")"
   ]
  },
  {
   "cell_type": "code",
   "execution_count": 28,
   "id": "bbe98915",
   "metadata": {},
   "outputs": [],
   "source": [
    "import xgboost as xgb\n",
    "\n",
    "\n",
    "from hyperopt import fmin, tpe, hp, STATUS_OK, Trials\n",
    "from hyperopt.pyll import scope"
   ]
  },
  {
   "cell_type": "code",
   "execution_count": 29,
   "id": "b5232952",
   "metadata": {},
   "outputs": [],
   "source": [
    "train = xgb.DMatrix(X_train, label=y_train)\n",
    "valid = xgb.DMatrix(X_val, label=y_val)"
   ]
  },
  {
   "cell_type": "code",
   "execution_count": 39,
   "id": "ce08338f",
   "metadata": {},
   "outputs": [],
   "source": [
    "def objective(params):\n",
    "    with mlflow.start_run():\n",
    "        mlflow.set_tag(\"model\", \"xgboost\")\n",
    "        mlflow.log_params(params)\n",
    "        booster = xgb.train(\n",
    "            params=params,\n",
    "            dtrain=train,\n",
    "            num_boost_round=100,\n",
    "            evals=[(valid, \"validation\")],\n",
    "            early_stopping_rounds=5\n",
    "        )\n",
    "        y_pred = booster.predict(valid)\n",
    "        rmse = mean_squared_error(y_val, y_pred, squared=False)\n",
    "        mlflow.log_metric('rmse', rmse)\n",
    "    return {'rmse': rmse, 'status': STATUS_OK}\n",
    "        \n"
   ]
  },
  {
   "cell_type": "code",
   "execution_count": 41,
   "id": "b3881108",
   "metadata": {},
   "outputs": [
    {
     "name": "stdout",
     "output_type": "stream",
     "text": [
      "[11:42:14] WARNING: /Users/runner/work/xgboost/xgboost/python-package/build/temp.macosx-10.9-x86_64-cpython-38/xgboost/src/objective/regression_obj.cu:213: reg:linear is now deprecated in favor of reg:squarederror.\n",
      "[0]\tvalidation-rmse:10.87516                                                                                                                      \n",
      "[1]\tvalidation-rmse:7.80985                                                                                                                       \n",
      "[2]\tvalidation-rmse:7.02128                                                                                                                       \n",
      "[3]\tvalidation-rmse:6.79708                                                                                                                       \n",
      "[4]\tvalidation-rmse:6.72751                                                                                                                       \n",
      "[5]\tvalidation-rmse:6.69997                                                                                                                       \n",
      "[6]\tvalidation-rmse:6.67856                                                                                                                       \n",
      "[7]\tvalidation-rmse:6.67478                                                                                                                       \n",
      "[8]\tvalidation-rmse:6.66756                                                                                                                       \n",
      "[9]\tvalidation-rmse:6.66263                                                                                                                       \n",
      "[10]\tvalidation-rmse:6.65794                                                                                                                      \n",
      "[11]\tvalidation-rmse:6.65468                                                                                                                      \n",
      "[12]\tvalidation-rmse:6.65199                                                                                                                      \n",
      "[13]\tvalidation-rmse:6.64891                                                                                                                      \n",
      "[14]\tvalidation-rmse:6.64806                                                                                                                      \n",
      "[15]\tvalidation-rmse:6.64412                                                                                                                      \n",
      "[16]\tvalidation-rmse:6.64108                                                                                                                      \n",
      "[17]\tvalidation-rmse:6.63944                                                                                                                      \n",
      "[18]\tvalidation-rmse:6.63702                                                                                                                      \n",
      "[19]\tvalidation-rmse:6.63520                                                                                                                      \n",
      "[20]\tvalidation-rmse:6.63393                                                                                                                      \n",
      "[21]\tvalidation-rmse:6.62814                                                                                                                      \n",
      "[22]\tvalidation-rmse:6.62537                                                                                                                      \n",
      "[23]\tvalidation-rmse:6.62062                                                                                                                      \n",
      "[24]\tvalidation-rmse:6.61699                                                                                                                      \n",
      "[25]\tvalidation-rmse:6.61386                                                                                                                      \n",
      "[26]\tvalidation-rmse:6.60975                                                                                                                      \n",
      "[27]\tvalidation-rmse:6.60857                                                                                                                      \n",
      "[28]\tvalidation-rmse:6.60454                                                                                                                      \n",
      "[29]\tvalidation-rmse:6.60335                                                                                                                      \n",
      "[30]\tvalidation-rmse:6.59661                                                                                                                      \n",
      "[31]\tvalidation-rmse:6.59379                                                                                                                      \n",
      "[32]\tvalidation-rmse:6.59304                                                                                                                      \n",
      "[33]\tvalidation-rmse:6.59224                                                                                                                      \n",
      "[34]\tvalidation-rmse:6.58960                                                                                                                      \n",
      "[35]\tvalidation-rmse:6.58809                                                                                                                      \n",
      "[36]\tvalidation-rmse:6.58570                                                                                                                      \n",
      "[37]\tvalidation-rmse:6.58436                                                                                                                      \n",
      "[38]\tvalidation-rmse:6.58054                                                                                                                      \n",
      "[39]\tvalidation-rmse:6.57973                                                                                                                      \n",
      "[40]\tvalidation-rmse:6.57893                                                                                                                      \n",
      "[41]\tvalidation-rmse:6.57670                                                                                                                      \n",
      "[42]\tvalidation-rmse:6.57485                                                                                                                      \n",
      "[43]\tvalidation-rmse:6.57290                                                                                                                      \n",
      "[44]\tvalidation-rmse:6.57251                                                                                                                      \n",
      "[45]\tvalidation-rmse:6.56961                                                                                                                      \n",
      "[46]\tvalidation-rmse:6.56707                                                                                                                      \n",
      "[47]\tvalidation-rmse:6.56574                                                                                                                      \n",
      "[48]\tvalidation-rmse:6.56439                                                                                                                      \n",
      "[49]\tvalidation-rmse:6.56234                                                                                                                      \n",
      "[50]\tvalidation-rmse:6.56040                                                                                                                      \n",
      "[51]\tvalidation-rmse:6.55936                                                                                                                      \n",
      "[52]\tvalidation-rmse:6.55808                                                                                                                      \n",
      "[53]\tvalidation-rmse:6.55610                                                                                                                      \n"
     ]
    },
    {
     "name": "stdout",
     "output_type": "stream",
     "text": [
      "[54]\tvalidation-rmse:6.55399                                                                                                                      \n",
      "[55]\tvalidation-rmse:6.55281                                                                                                                      \n",
      "[56]\tvalidation-rmse:6.55031                                                                                                                      \n",
      "[57]\tvalidation-rmse:6.54915                                                                                                                      \n",
      "[58]\tvalidation-rmse:6.54861                                                                                                                      \n",
      "[59]\tvalidation-rmse:6.54713                                                                                                                      \n",
      "[60]\tvalidation-rmse:6.54603                                                                                                                      \n",
      "[61]\tvalidation-rmse:6.54498                                                                                                                      \n",
      "[62]\tvalidation-rmse:6.54406                                                                                                                      \n",
      "[63]\tvalidation-rmse:6.54301                                                                                                                      \n",
      "[64]\tvalidation-rmse:6.54246                                                                                                                      \n",
      "[65]\tvalidation-rmse:6.54229                                                                                                                      \n",
      "[66]\tvalidation-rmse:6.54079                                                                                                                      \n",
      "[67]\tvalidation-rmse:6.53960                                                                                                                      \n",
      "[68]\tvalidation-rmse:6.53776                                                                                                                      \n",
      "[69]\tvalidation-rmse:6.53710                                                                                                                      \n",
      "[70]\tvalidation-rmse:6.53621                                                                                                                      \n",
      "[71]\tvalidation-rmse:6.53477                                                                                                                      \n",
      "[72]\tvalidation-rmse:6.53321                                                                                                                      \n",
      "[73]\tvalidation-rmse:6.53162                                                                                                                      \n",
      "[74]\tvalidation-rmse:6.53045                                                                                                                      \n",
      "[75]\tvalidation-rmse:6.52904                                                                                                                      \n",
      "[76]\tvalidation-rmse:6.52854                                                                                                                      \n",
      "[77]\tvalidation-rmse:6.52618                                                                                                                      \n",
      "[78]\tvalidation-rmse:6.52419                                                                                                                      \n",
      "[79]\tvalidation-rmse:6.52154                                                                                                                      \n",
      "[80]\tvalidation-rmse:6.51980                                                                                                                      \n",
      "[81]\tvalidation-rmse:6.51838                                                                                                                      \n",
      "[82]\tvalidation-rmse:6.51489                                                                                                                      \n",
      "[83]\tvalidation-rmse:6.51236                                                                                                                      \n",
      "[84]\tvalidation-rmse:6.51043                                                                                                                      \n",
      "[85]\tvalidation-rmse:6.51125                                                                                                                      \n",
      "[86]\tvalidation-rmse:6.50924                                                                                                                      \n",
      "[87]\tvalidation-rmse:6.50685                                                                                                                      \n",
      "[88]\tvalidation-rmse:6.50570                                                                                                                      \n",
      "[89]\tvalidation-rmse:6.50425                                                                                                                      \n",
      "[90]\tvalidation-rmse:6.50291                                                                                                                      \n",
      "[91]\tvalidation-rmse:6.50090                                                                                                                      \n",
      "[92]\tvalidation-rmse:6.49946                                                                                                                      \n",
      "[93]\tvalidation-rmse:6.49840                                                                                                                      \n",
      "[94]\tvalidation-rmse:6.49741                                                                                                                      \n",
      "[95]\tvalidation-rmse:6.49788                                                                                                                      \n",
      "[96]\tvalidation-rmse:6.49713                                                                                                                      \n",
      "[97]\tvalidation-rmse:6.49669                                                                                                                      \n",
      "[98]\tvalidation-rmse:6.49567                                                                                                                      \n",
      "[99]\tvalidation-rmse:6.49433                                                                                                                      \n",
      "  0%|                                                                                                      | 0/50 [00:05<?, ?trial/s, best loss=?]"
     ]
    },
    {
     "name": "stderr",
     "output_type": "stream",
     "text": [
      "job exception: \n",
      "\n"
     ]
    },
    {
     "name": "stdout",
     "output_type": "stream",
     "text": [
      "  0%|                                                                                                      | 0/50 [00:05<?, ?trial/s, best loss=?]\n"
     ]
    },
    {
     "ename": "InvalidLoss",
     "evalue": "",
     "output_type": "error",
     "traceback": [
      "\u001b[0;31m---------------------------------------------------------------------------\u001b[0m",
      "\u001b[0;31mKeyError\u001b[0m                                  Traceback (most recent call last)",
      "File \u001b[0;32m/usr/local/anaconda3/lib/python3.10/site-packages/hyperopt/base.py:905\u001b[0m, in \u001b[0;36mDomain.evaluate\u001b[0;34m(self, config, ctrl, attach_attachments)\u001b[0m\n\u001b[1;32m    904\u001b[0m \u001b[38;5;28;01mtry\u001b[39;00m:\n\u001b[0;32m--> 905\u001b[0m     dict_rval[\u001b[38;5;124m\"\u001b[39m\u001b[38;5;124mloss\u001b[39m\u001b[38;5;124m\"\u001b[39m] \u001b[38;5;241m=\u001b[39m \u001b[38;5;28mfloat\u001b[39m(\u001b[43mdict_rval\u001b[49m\u001b[43m[\u001b[49m\u001b[38;5;124;43m\"\u001b[39;49m\u001b[38;5;124;43mloss\u001b[39;49m\u001b[38;5;124;43m\"\u001b[39;49m\u001b[43m]\u001b[49m)\n\u001b[1;32m    906\u001b[0m \u001b[38;5;28;01mexcept\u001b[39;00m (\u001b[38;5;167;01mTypeError\u001b[39;00m, \u001b[38;5;167;01mKeyError\u001b[39;00m):\n",
      "\u001b[0;31mKeyError\u001b[0m: 'loss'",
      "\nDuring handling of the above exception, another exception occurred:\n",
      "\u001b[0;31mInvalidLoss\u001b[0m                               Traceback (most recent call last)",
      "Cell \u001b[0;32mIn[41], line 11\u001b[0m\n\u001b[1;32m      1\u001b[0m search_space \u001b[38;5;241m=\u001b[39m {\n\u001b[1;32m      2\u001b[0m     \u001b[38;5;124m'\u001b[39m\u001b[38;5;124mmax_depth\u001b[39m\u001b[38;5;124m'\u001b[39m: scope\u001b[38;5;241m.\u001b[39mint(hp\u001b[38;5;241m.\u001b[39mquniform(\u001b[38;5;124m'\u001b[39m\u001b[38;5;124mmax_depth\u001b[39m\u001b[38;5;124m'\u001b[39m, \u001b[38;5;241m4\u001b[39m, \u001b[38;5;241m100\u001b[39m, \u001b[38;5;241m1\u001b[39m)),\n\u001b[1;32m      3\u001b[0m     \u001b[38;5;124m'\u001b[39m\u001b[38;5;124mlearning_rate\u001b[39m\u001b[38;5;124m'\u001b[39m: hp\u001b[38;5;241m.\u001b[39mloguniform(\u001b[38;5;124m'\u001b[39m\u001b[38;5;124mlearning_rate\u001b[39m\u001b[38;5;124m'\u001b[39m, \u001b[38;5;241m-\u001b[39m\u001b[38;5;241m3\u001b[39m, \u001b[38;5;241m0\u001b[39m),\n\u001b[0;32m   (...)\u001b[0m\n\u001b[1;32m      8\u001b[0m     \u001b[38;5;124m'\u001b[39m\u001b[38;5;124mseed\u001b[39m\u001b[38;5;124m'\u001b[39m: \u001b[38;5;241m42\u001b[39m\n\u001b[1;32m      9\u001b[0m }\n\u001b[0;32m---> 11\u001b[0m best_result \u001b[38;5;241m=\u001b[39m \u001b[43mfmin\u001b[49m\u001b[43m(\u001b[49m\n\u001b[1;32m     12\u001b[0m \u001b[43m    \u001b[49m\u001b[43mfn\u001b[49m\u001b[38;5;241;43m=\u001b[39;49m\u001b[43mobjective\u001b[49m\u001b[43m,\u001b[49m\n\u001b[1;32m     13\u001b[0m \u001b[43m    \u001b[49m\u001b[43mspace\u001b[49m\u001b[38;5;241;43m=\u001b[39;49m\u001b[43msearch_space\u001b[49m\u001b[43m,\u001b[49m\n\u001b[1;32m     14\u001b[0m \u001b[43m    \u001b[49m\u001b[43malgo\u001b[49m\u001b[38;5;241;43m=\u001b[39;49m\u001b[43mtpe\u001b[49m\u001b[38;5;241;43m.\u001b[39;49m\u001b[43msuggest\u001b[49m\u001b[43m,\u001b[49m\n\u001b[1;32m     15\u001b[0m \u001b[43m    \u001b[49m\u001b[43mmax_evals\u001b[49m\u001b[38;5;241;43m=\u001b[39;49m\u001b[38;5;241;43m50\u001b[39;49m\u001b[43m,\u001b[49m\n\u001b[1;32m     16\u001b[0m \u001b[43m    \u001b[49m\u001b[43mtrials\u001b[49m\u001b[38;5;241;43m=\u001b[39;49m\u001b[43mTrials\u001b[49m\u001b[43m(\u001b[49m\u001b[43m)\u001b[49m\n\u001b[1;32m     17\u001b[0m \u001b[43m)\u001b[49m\n",
      "File \u001b[0;32m/usr/local/anaconda3/lib/python3.10/site-packages/hyperopt/fmin.py:540\u001b[0m, in \u001b[0;36mfmin\u001b[0;34m(fn, space, algo, max_evals, timeout, loss_threshold, trials, rstate, allow_trials_fmin, pass_expr_memo_ctrl, catch_eval_exceptions, verbose, return_argmin, points_to_evaluate, max_queue_len, show_progressbar, early_stop_fn, trials_save_file)\u001b[0m\n\u001b[1;32m    537\u001b[0m     fn \u001b[38;5;241m=\u001b[39m __objective_fmin_wrapper(fn)\n\u001b[1;32m    539\u001b[0m \u001b[38;5;28;01mif\u001b[39;00m allow_trials_fmin \u001b[38;5;129;01mand\u001b[39;00m \u001b[38;5;28mhasattr\u001b[39m(trials, \u001b[38;5;124m\"\u001b[39m\u001b[38;5;124mfmin\u001b[39m\u001b[38;5;124m\"\u001b[39m):\n\u001b[0;32m--> 540\u001b[0m     \u001b[38;5;28;01mreturn\u001b[39;00m \u001b[43mtrials\u001b[49m\u001b[38;5;241;43m.\u001b[39;49m\u001b[43mfmin\u001b[49m\u001b[43m(\u001b[49m\n\u001b[1;32m    541\u001b[0m \u001b[43m        \u001b[49m\u001b[43mfn\u001b[49m\u001b[43m,\u001b[49m\n\u001b[1;32m    542\u001b[0m \u001b[43m        \u001b[49m\u001b[43mspace\u001b[49m\u001b[43m,\u001b[49m\n\u001b[1;32m    543\u001b[0m \u001b[43m        \u001b[49m\u001b[43malgo\u001b[49m\u001b[38;5;241;43m=\u001b[39;49m\u001b[43malgo\u001b[49m\u001b[43m,\u001b[49m\n\u001b[1;32m    544\u001b[0m \u001b[43m        \u001b[49m\u001b[43mmax_evals\u001b[49m\u001b[38;5;241;43m=\u001b[39;49m\u001b[43mmax_evals\u001b[49m\u001b[43m,\u001b[49m\n\u001b[1;32m    545\u001b[0m \u001b[43m        \u001b[49m\u001b[43mtimeout\u001b[49m\u001b[38;5;241;43m=\u001b[39;49m\u001b[43mtimeout\u001b[49m\u001b[43m,\u001b[49m\n\u001b[1;32m    546\u001b[0m \u001b[43m        \u001b[49m\u001b[43mloss_threshold\u001b[49m\u001b[38;5;241;43m=\u001b[39;49m\u001b[43mloss_threshold\u001b[49m\u001b[43m,\u001b[49m\n\u001b[1;32m    547\u001b[0m \u001b[43m        \u001b[49m\u001b[43mmax_queue_len\u001b[49m\u001b[38;5;241;43m=\u001b[39;49m\u001b[43mmax_queue_len\u001b[49m\u001b[43m,\u001b[49m\n\u001b[1;32m    548\u001b[0m \u001b[43m        \u001b[49m\u001b[43mrstate\u001b[49m\u001b[38;5;241;43m=\u001b[39;49m\u001b[43mrstate\u001b[49m\u001b[43m,\u001b[49m\n\u001b[1;32m    549\u001b[0m \u001b[43m        \u001b[49m\u001b[43mpass_expr_memo_ctrl\u001b[49m\u001b[38;5;241;43m=\u001b[39;49m\u001b[43mpass_expr_memo_ctrl\u001b[49m\u001b[43m,\u001b[49m\n\u001b[1;32m    550\u001b[0m \u001b[43m        \u001b[49m\u001b[43mverbose\u001b[49m\u001b[38;5;241;43m=\u001b[39;49m\u001b[43mverbose\u001b[49m\u001b[43m,\u001b[49m\n\u001b[1;32m    551\u001b[0m \u001b[43m        \u001b[49m\u001b[43mcatch_eval_exceptions\u001b[49m\u001b[38;5;241;43m=\u001b[39;49m\u001b[43mcatch_eval_exceptions\u001b[49m\u001b[43m,\u001b[49m\n\u001b[1;32m    552\u001b[0m \u001b[43m        \u001b[49m\u001b[43mreturn_argmin\u001b[49m\u001b[38;5;241;43m=\u001b[39;49m\u001b[43mreturn_argmin\u001b[49m\u001b[43m,\u001b[49m\n\u001b[1;32m    553\u001b[0m \u001b[43m        \u001b[49m\u001b[43mshow_progressbar\u001b[49m\u001b[38;5;241;43m=\u001b[39;49m\u001b[43mshow_progressbar\u001b[49m\u001b[43m,\u001b[49m\n\u001b[1;32m    554\u001b[0m \u001b[43m        \u001b[49m\u001b[43mearly_stop_fn\u001b[49m\u001b[38;5;241;43m=\u001b[39;49m\u001b[43mearly_stop_fn\u001b[49m\u001b[43m,\u001b[49m\n\u001b[1;32m    555\u001b[0m \u001b[43m        \u001b[49m\u001b[43mtrials_save_file\u001b[49m\u001b[38;5;241;43m=\u001b[39;49m\u001b[43mtrials_save_file\u001b[49m\u001b[43m,\u001b[49m\n\u001b[1;32m    556\u001b[0m \u001b[43m    \u001b[49m\u001b[43m)\u001b[49m\n\u001b[1;32m    558\u001b[0m \u001b[38;5;28;01mif\u001b[39;00m trials \u001b[38;5;129;01mis\u001b[39;00m \u001b[38;5;28;01mNone\u001b[39;00m:\n\u001b[1;32m    559\u001b[0m     \u001b[38;5;28;01mif\u001b[39;00m os\u001b[38;5;241m.\u001b[39mpath\u001b[38;5;241m.\u001b[39mexists(trials_save_file):\n",
      "File \u001b[0;32m/usr/local/anaconda3/lib/python3.10/site-packages/hyperopt/base.py:671\u001b[0m, in \u001b[0;36mTrials.fmin\u001b[0;34m(self, fn, space, algo, max_evals, timeout, loss_threshold, max_queue_len, rstate, verbose, pass_expr_memo_ctrl, catch_eval_exceptions, return_argmin, show_progressbar, early_stop_fn, trials_save_file)\u001b[0m\n\u001b[1;32m    666\u001b[0m \u001b[38;5;66;03m# -- Stop-gap implementation!\u001b[39;00m\n\u001b[1;32m    667\u001b[0m \u001b[38;5;66;03m#    fmin should have been a Trials method in the first place\u001b[39;00m\n\u001b[1;32m    668\u001b[0m \u001b[38;5;66;03m#    but for now it's still sitting in another file.\u001b[39;00m\n\u001b[1;32m    669\u001b[0m \u001b[38;5;28;01mfrom\u001b[39;00m \u001b[38;5;21;01m.\u001b[39;00m\u001b[38;5;21;01mfmin\u001b[39;00m \u001b[38;5;28;01mimport\u001b[39;00m fmin\n\u001b[0;32m--> 671\u001b[0m \u001b[38;5;28;01mreturn\u001b[39;00m \u001b[43mfmin\u001b[49m\u001b[43m(\u001b[49m\n\u001b[1;32m    672\u001b[0m \u001b[43m    \u001b[49m\u001b[43mfn\u001b[49m\u001b[43m,\u001b[49m\n\u001b[1;32m    673\u001b[0m \u001b[43m    \u001b[49m\u001b[43mspace\u001b[49m\u001b[43m,\u001b[49m\n\u001b[1;32m    674\u001b[0m \u001b[43m    \u001b[49m\u001b[43malgo\u001b[49m\u001b[38;5;241;43m=\u001b[39;49m\u001b[43malgo\u001b[49m\u001b[43m,\u001b[49m\n\u001b[1;32m    675\u001b[0m \u001b[43m    \u001b[49m\u001b[43mmax_evals\u001b[49m\u001b[38;5;241;43m=\u001b[39;49m\u001b[43mmax_evals\u001b[49m\u001b[43m,\u001b[49m\n\u001b[1;32m    676\u001b[0m \u001b[43m    \u001b[49m\u001b[43mtimeout\u001b[49m\u001b[38;5;241;43m=\u001b[39;49m\u001b[43mtimeout\u001b[49m\u001b[43m,\u001b[49m\n\u001b[1;32m    677\u001b[0m \u001b[43m    \u001b[49m\u001b[43mloss_threshold\u001b[49m\u001b[38;5;241;43m=\u001b[39;49m\u001b[43mloss_threshold\u001b[49m\u001b[43m,\u001b[49m\n\u001b[1;32m    678\u001b[0m \u001b[43m    \u001b[49m\u001b[43mtrials\u001b[49m\u001b[38;5;241;43m=\u001b[39;49m\u001b[38;5;28;43mself\u001b[39;49m\u001b[43m,\u001b[49m\n\u001b[1;32m    679\u001b[0m \u001b[43m    \u001b[49m\u001b[43mrstate\u001b[49m\u001b[38;5;241;43m=\u001b[39;49m\u001b[43mrstate\u001b[49m\u001b[43m,\u001b[49m\n\u001b[1;32m    680\u001b[0m \u001b[43m    \u001b[49m\u001b[43mverbose\u001b[49m\u001b[38;5;241;43m=\u001b[39;49m\u001b[43mverbose\u001b[49m\u001b[43m,\u001b[49m\n\u001b[1;32m    681\u001b[0m \u001b[43m    \u001b[49m\u001b[43mmax_queue_len\u001b[49m\u001b[38;5;241;43m=\u001b[39;49m\u001b[43mmax_queue_len\u001b[49m\u001b[43m,\u001b[49m\n\u001b[1;32m    682\u001b[0m \u001b[43m    \u001b[49m\u001b[43mallow_trials_fmin\u001b[49m\u001b[38;5;241;43m=\u001b[39;49m\u001b[38;5;28;43;01mFalse\u001b[39;49;00m\u001b[43m,\u001b[49m\u001b[43m  \u001b[49m\u001b[38;5;66;43;03m# -- prevent recursion\u001b[39;49;00m\n\u001b[1;32m    683\u001b[0m \u001b[43m    \u001b[49m\u001b[43mpass_expr_memo_ctrl\u001b[49m\u001b[38;5;241;43m=\u001b[39;49m\u001b[43mpass_expr_memo_ctrl\u001b[49m\u001b[43m,\u001b[49m\n\u001b[1;32m    684\u001b[0m \u001b[43m    \u001b[49m\u001b[43mcatch_eval_exceptions\u001b[49m\u001b[38;5;241;43m=\u001b[39;49m\u001b[43mcatch_eval_exceptions\u001b[49m\u001b[43m,\u001b[49m\n\u001b[1;32m    685\u001b[0m \u001b[43m    \u001b[49m\u001b[43mreturn_argmin\u001b[49m\u001b[38;5;241;43m=\u001b[39;49m\u001b[43mreturn_argmin\u001b[49m\u001b[43m,\u001b[49m\n\u001b[1;32m    686\u001b[0m \u001b[43m    \u001b[49m\u001b[43mshow_progressbar\u001b[49m\u001b[38;5;241;43m=\u001b[39;49m\u001b[43mshow_progressbar\u001b[49m\u001b[43m,\u001b[49m\n\u001b[1;32m    687\u001b[0m \u001b[43m    \u001b[49m\u001b[43mearly_stop_fn\u001b[49m\u001b[38;5;241;43m=\u001b[39;49m\u001b[43mearly_stop_fn\u001b[49m\u001b[43m,\u001b[49m\n\u001b[1;32m    688\u001b[0m \u001b[43m    \u001b[49m\u001b[43mtrials_save_file\u001b[49m\u001b[38;5;241;43m=\u001b[39;49m\u001b[43mtrials_save_file\u001b[49m\u001b[43m,\u001b[49m\n\u001b[1;32m    689\u001b[0m \u001b[43m\u001b[49m\u001b[43m)\u001b[49m\n",
      "File \u001b[0;32m/usr/local/anaconda3/lib/python3.10/site-packages/hyperopt/fmin.py:586\u001b[0m, in \u001b[0;36mfmin\u001b[0;34m(fn, space, algo, max_evals, timeout, loss_threshold, trials, rstate, allow_trials_fmin, pass_expr_memo_ctrl, catch_eval_exceptions, verbose, return_argmin, points_to_evaluate, max_queue_len, show_progressbar, early_stop_fn, trials_save_file)\u001b[0m\n\u001b[1;32m    583\u001b[0m rval\u001b[38;5;241m.\u001b[39mcatch_eval_exceptions \u001b[38;5;241m=\u001b[39m catch_eval_exceptions\n\u001b[1;32m    585\u001b[0m \u001b[38;5;66;03m# next line is where the fmin is actually executed\u001b[39;00m\n\u001b[0;32m--> 586\u001b[0m \u001b[43mrval\u001b[49m\u001b[38;5;241;43m.\u001b[39;49m\u001b[43mexhaust\u001b[49m\u001b[43m(\u001b[49m\u001b[43m)\u001b[49m\n\u001b[1;32m    588\u001b[0m \u001b[38;5;28;01mif\u001b[39;00m return_argmin:\n\u001b[1;32m    589\u001b[0m     \u001b[38;5;28;01mif\u001b[39;00m \u001b[38;5;28mlen\u001b[39m(trials\u001b[38;5;241m.\u001b[39mtrials) \u001b[38;5;241m==\u001b[39m \u001b[38;5;241m0\u001b[39m:\n",
      "File \u001b[0;32m/usr/local/anaconda3/lib/python3.10/site-packages/hyperopt/fmin.py:364\u001b[0m, in \u001b[0;36mFMinIter.exhaust\u001b[0;34m(self)\u001b[0m\n\u001b[1;32m    362\u001b[0m \u001b[38;5;28;01mdef\u001b[39;00m \u001b[38;5;21mexhaust\u001b[39m(\u001b[38;5;28mself\u001b[39m):\n\u001b[1;32m    363\u001b[0m     n_done \u001b[38;5;241m=\u001b[39m \u001b[38;5;28mlen\u001b[39m(\u001b[38;5;28mself\u001b[39m\u001b[38;5;241m.\u001b[39mtrials)\n\u001b[0;32m--> 364\u001b[0m     \u001b[38;5;28;43mself\u001b[39;49m\u001b[38;5;241;43m.\u001b[39;49m\u001b[43mrun\u001b[49m\u001b[43m(\u001b[49m\u001b[38;5;28;43mself\u001b[39;49m\u001b[38;5;241;43m.\u001b[39;49m\u001b[43mmax_evals\u001b[49m\u001b[43m \u001b[49m\u001b[38;5;241;43m-\u001b[39;49m\u001b[43m \u001b[49m\u001b[43mn_done\u001b[49m\u001b[43m,\u001b[49m\u001b[43m \u001b[49m\u001b[43mblock_until_done\u001b[49m\u001b[38;5;241;43m=\u001b[39;49m\u001b[38;5;28;43mself\u001b[39;49m\u001b[38;5;241;43m.\u001b[39;49m\u001b[43masynchronous\u001b[49m\u001b[43m)\u001b[49m\n\u001b[1;32m    365\u001b[0m     \u001b[38;5;28mself\u001b[39m\u001b[38;5;241m.\u001b[39mtrials\u001b[38;5;241m.\u001b[39mrefresh()\n\u001b[1;32m    366\u001b[0m     \u001b[38;5;28;01mreturn\u001b[39;00m \u001b[38;5;28mself\u001b[39m\n",
      "File \u001b[0;32m/usr/local/anaconda3/lib/python3.10/site-packages/hyperopt/fmin.py:300\u001b[0m, in \u001b[0;36mFMinIter.run\u001b[0;34m(self, N, block_until_done)\u001b[0m\n\u001b[1;32m    297\u001b[0m     time\u001b[38;5;241m.\u001b[39msleep(\u001b[38;5;28mself\u001b[39m\u001b[38;5;241m.\u001b[39mpoll_interval_secs)\n\u001b[1;32m    298\u001b[0m \u001b[38;5;28;01melse\u001b[39;00m:\n\u001b[1;32m    299\u001b[0m     \u001b[38;5;66;03m# -- loop over trials and do the jobs directly\u001b[39;00m\n\u001b[0;32m--> 300\u001b[0m     \u001b[38;5;28;43mself\u001b[39;49m\u001b[38;5;241;43m.\u001b[39;49m\u001b[43mserial_evaluate\u001b[49m\u001b[43m(\u001b[49m\u001b[43m)\u001b[49m\n\u001b[1;32m    302\u001b[0m \u001b[38;5;28mself\u001b[39m\u001b[38;5;241m.\u001b[39mtrials\u001b[38;5;241m.\u001b[39mrefresh()\n\u001b[1;32m    303\u001b[0m \u001b[38;5;28;01mif\u001b[39;00m \u001b[38;5;28mself\u001b[39m\u001b[38;5;241m.\u001b[39mtrials_save_file \u001b[38;5;241m!=\u001b[39m \u001b[38;5;124m\"\u001b[39m\u001b[38;5;124m\"\u001b[39m:\n",
      "File \u001b[0;32m/usr/local/anaconda3/lib/python3.10/site-packages/hyperopt/fmin.py:178\u001b[0m, in \u001b[0;36mFMinIter.serial_evaluate\u001b[0;34m(self, N)\u001b[0m\n\u001b[1;32m    176\u001b[0m ctrl \u001b[38;5;241m=\u001b[39m base\u001b[38;5;241m.\u001b[39mCtrl(\u001b[38;5;28mself\u001b[39m\u001b[38;5;241m.\u001b[39mtrials, current_trial\u001b[38;5;241m=\u001b[39mtrial)\n\u001b[1;32m    177\u001b[0m \u001b[38;5;28;01mtry\u001b[39;00m:\n\u001b[0;32m--> 178\u001b[0m     result \u001b[38;5;241m=\u001b[39m \u001b[38;5;28;43mself\u001b[39;49m\u001b[38;5;241;43m.\u001b[39;49m\u001b[43mdomain\u001b[49m\u001b[38;5;241;43m.\u001b[39;49m\u001b[43mevaluate\u001b[49m\u001b[43m(\u001b[49m\u001b[43mspec\u001b[49m\u001b[43m,\u001b[49m\u001b[43m \u001b[49m\u001b[43mctrl\u001b[49m\u001b[43m)\u001b[49m\n\u001b[1;32m    179\u001b[0m \u001b[38;5;28;01mexcept\u001b[39;00m \u001b[38;5;167;01mException\u001b[39;00m \u001b[38;5;28;01mas\u001b[39;00m e:\n\u001b[1;32m    180\u001b[0m     logger\u001b[38;5;241m.\u001b[39merror(\u001b[38;5;124m\"\u001b[39m\u001b[38;5;124mjob exception: \u001b[39m\u001b[38;5;132;01m%s\u001b[39;00m\u001b[38;5;124m\"\u001b[39m \u001b[38;5;241m%\u001b[39m \u001b[38;5;28mstr\u001b[39m(e))\n",
      "File \u001b[0;32m/usr/local/anaconda3/lib/python3.10/site-packages/hyperopt/base.py:907\u001b[0m, in \u001b[0;36mDomain.evaluate\u001b[0;34m(self, config, ctrl, attach_attachments)\u001b[0m\n\u001b[1;32m    905\u001b[0m             dict_rval[\u001b[38;5;124m\"\u001b[39m\u001b[38;5;124mloss\u001b[39m\u001b[38;5;124m\"\u001b[39m] \u001b[38;5;241m=\u001b[39m \u001b[38;5;28mfloat\u001b[39m(dict_rval[\u001b[38;5;124m\"\u001b[39m\u001b[38;5;124mloss\u001b[39m\u001b[38;5;124m\"\u001b[39m])\n\u001b[1;32m    906\u001b[0m         \u001b[38;5;28;01mexcept\u001b[39;00m (\u001b[38;5;167;01mTypeError\u001b[39;00m, \u001b[38;5;167;01mKeyError\u001b[39;00m):\n\u001b[0;32m--> 907\u001b[0m             \u001b[38;5;28;01mraise\u001b[39;00m InvalidLoss(dict_rval)\n\u001b[1;32m    909\u001b[0m \u001b[38;5;28;01mif\u001b[39;00m attach_attachments:\n\u001b[1;32m    910\u001b[0m     attachments \u001b[38;5;241m=\u001b[39m dict_rval\u001b[38;5;241m.\u001b[39mpop(\u001b[38;5;124m\"\u001b[39m\u001b[38;5;124mattachments\u001b[39m\u001b[38;5;124m\"\u001b[39m, {})\n",
      "\u001b[0;31mInvalidLoss\u001b[0m: "
     ]
    }
   ],
   "source": [
    "search_space = {\n",
    "    'max_depth': scope.int(hp.quniform('max_depth', 4, 100, 1)),\n",
    "    'learning_rate': hp.loguniform('learning_rate', -3, 0),\n",
    "    'reg_alpha': hp.loguniform('reg_alpha', -5, -1),\n",
    "    'reg_lambda': hp.loguniform('reg_lambda', -6, -1),\n",
    "    'min_child_weight': hp.loguniform('min_child_weight', -1, 3),\n",
    "    'objective': 'reg:linear',\n",
    "    'seed': 42\n",
    "}\n",
    "\n",
    "best_result = fmin(\n",
    "    fn=objective,\n",
    "    space=search_space,\n",
    "    algo=tpe.suggest,\n",
    "    max_evals=50,\n",
    "    trials=Trials()\n",
    ")"
   ]
  },
  {
   "cell_type": "code",
   "execution_count": 42,
   "id": "c40b8a34",
   "metadata": {},
   "outputs": [
    {
     "name": "stderr",
     "output_type": "stream",
     "text": [
      "2023/05/25 12:23:54 INFO mlflow.utils.autologging_utils: Created MLflow autologging run with ID '631e611da67f4a728d2653d31edb48ef', which will track hyperparameters, performance metrics, model artifacts, and lineage information for the current xgboost workflow\n"
     ]
    },
    {
     "name": "stdout",
     "output_type": "stream",
     "text": [
      "[12:23:54] WARNING: /Users/runner/work/xgboost/xgboost/python-package/build/temp.macosx-10.9-x86_64-cpython-38/xgboost/src/objective/regression_obj.cu:213: reg:linear is now deprecated in favor of reg:squarederror.\n",
      "[0]\tvalidation-rmse:10.87516\n",
      "[1]\tvalidation-rmse:7.80985\n",
      "[2]\tvalidation-rmse:7.02128\n",
      "[3]\tvalidation-rmse:6.79708\n",
      "[4]\tvalidation-rmse:6.72751\n",
      "[5]\tvalidation-rmse:6.69997\n",
      "[6]\tvalidation-rmse:6.67856\n",
      "[7]\tvalidation-rmse:6.67478\n",
      "[8]\tvalidation-rmse:6.66756\n",
      "[9]\tvalidation-rmse:6.66263\n",
      "[10]\tvalidation-rmse:6.65794\n",
      "[11]\tvalidation-rmse:6.65468\n",
      "[12]\tvalidation-rmse:6.65199\n",
      "[13]\tvalidation-rmse:6.64891\n",
      "[14]\tvalidation-rmse:6.64806\n",
      "[15]\tvalidation-rmse:6.64412\n",
      "[16]\tvalidation-rmse:6.64108\n",
      "[17]\tvalidation-rmse:6.63944\n",
      "[18]\tvalidation-rmse:6.63702\n",
      "[19]\tvalidation-rmse:6.63520\n",
      "[20]\tvalidation-rmse:6.63393\n",
      "[21]\tvalidation-rmse:6.62814\n",
      "[22]\tvalidation-rmse:6.62537\n",
      "[23]\tvalidation-rmse:6.62062\n",
      "[24]\tvalidation-rmse:6.61699\n",
      "[25]\tvalidation-rmse:6.61386\n",
      "[26]\tvalidation-rmse:6.60975\n",
      "[27]\tvalidation-rmse:6.60857\n",
      "[28]\tvalidation-rmse:6.60454\n",
      "[29]\tvalidation-rmse:6.60335\n",
      "[30]\tvalidation-rmse:6.59661\n",
      "[31]\tvalidation-rmse:6.59379\n",
      "[32]\tvalidation-rmse:6.59304\n",
      "[33]\tvalidation-rmse:6.59224\n",
      "[34]\tvalidation-rmse:6.58960\n",
      "[35]\tvalidation-rmse:6.58809\n",
      "[36]\tvalidation-rmse:6.58570\n",
      "[37]\tvalidation-rmse:6.58436\n",
      "[38]\tvalidation-rmse:6.58054\n",
      "[39]\tvalidation-rmse:6.57973\n",
      "[40]\tvalidation-rmse:6.57893\n",
      "[41]\tvalidation-rmse:6.57670\n",
      "[42]\tvalidation-rmse:6.57485\n",
      "[43]\tvalidation-rmse:6.57290\n",
      "[44]\tvalidation-rmse:6.57251\n",
      "[45]\tvalidation-rmse:6.56961\n",
      "[46]\tvalidation-rmse:6.56707\n",
      "[47]\tvalidation-rmse:6.56574\n",
      "[48]\tvalidation-rmse:6.56439\n",
      "[49]\tvalidation-rmse:6.56234\n",
      "[50]\tvalidation-rmse:6.56040\n",
      "[51]\tvalidation-rmse:6.55936\n",
      "[52]\tvalidation-rmse:6.55808\n",
      "[53]\tvalidation-rmse:6.55610\n",
      "[54]\tvalidation-rmse:6.55399\n",
      "[55]\tvalidation-rmse:6.55281\n",
      "[56]\tvalidation-rmse:6.55031\n",
      "[57]\tvalidation-rmse:6.54915\n",
      "[58]\tvalidation-rmse:6.54861\n",
      "[59]\tvalidation-rmse:6.54713\n",
      "[60]\tvalidation-rmse:6.54603\n",
      "[61]\tvalidation-rmse:6.54498\n",
      "[62]\tvalidation-rmse:6.54406\n",
      "[63]\tvalidation-rmse:6.54301\n",
      "[64]\tvalidation-rmse:6.54246\n",
      "[65]\tvalidation-rmse:6.54229\n",
      "[66]\tvalidation-rmse:6.54079\n",
      "[67]\tvalidation-rmse:6.53960\n",
      "[68]\tvalidation-rmse:6.53776\n",
      "[69]\tvalidation-rmse:6.53710\n",
      "[70]\tvalidation-rmse:6.53621\n",
      "[71]\tvalidation-rmse:6.53477\n",
      "[72]\tvalidation-rmse:6.53321\n",
      "[73]\tvalidation-rmse:6.53162\n",
      "[74]\tvalidation-rmse:6.53045\n",
      "[75]\tvalidation-rmse:6.52904\n",
      "[76]\tvalidation-rmse:6.52854\n",
      "[77]\tvalidation-rmse:6.52618\n",
      "[78]\tvalidation-rmse:6.52419\n",
      "[79]\tvalidation-rmse:6.52154\n",
      "[80]\tvalidation-rmse:6.51980\n",
      "[81]\tvalidation-rmse:6.51838\n",
      "[82]\tvalidation-rmse:6.51489\n",
      "[83]\tvalidation-rmse:6.51236\n",
      "[84]\tvalidation-rmse:6.51043\n",
      "[85]\tvalidation-rmse:6.51125\n",
      "[86]\tvalidation-rmse:6.50924\n",
      "[87]\tvalidation-rmse:6.50685\n",
      "[88]\tvalidation-rmse:6.50570\n",
      "[89]\tvalidation-rmse:6.50425\n",
      "[90]\tvalidation-rmse:6.50291\n",
      "[91]\tvalidation-rmse:6.50090\n",
      "[92]\tvalidation-rmse:6.49946\n",
      "[93]\tvalidation-rmse:6.49840\n",
      "[94]\tvalidation-rmse:6.49741\n",
      "[95]\tvalidation-rmse:6.49788\n",
      "[96]\tvalidation-rmse:6.49713\n",
      "[97]\tvalidation-rmse:6.49669\n",
      "[98]\tvalidation-rmse:6.49567\n",
      "[99]\tvalidation-rmse:6.49433\n"
     ]
    },
    {
     "name": "stderr",
     "output_type": "stream",
     "text": [
      "2023/05/25 12:24:05 WARNING mlflow.xgboost: Failed to infer model signature: could not sample data to infer model signature: please ensure that autologging is enabled before constructing the dataset.\n",
      "2023/05/25 12:24:14 WARNING mlflow.utils.autologging_utils: MLflow autologging encountered a warning: \"/usr/local/anaconda3/lib/python3.10/site-packages/_distutils_hack/__init__.py:33: UserWarning: Setuptools is replacing distutils.\"\n"
     ]
    }
   ],
   "source": [
    "\n",
    "\n",
    "params = {\n",
    "    'learning_rate':0.6127926351839442,\n",
    "    'max_depth': 7,\n",
    "    'min_child_weight': 1.0692866548579312,\n",
    "    'objective': 'reg:linear',\n",
    "    'reg_alpha': 0.13823297640386678,\n",
    "    'reg_lambda': 0.005984355718193455,\n",
    "    'seed': 42\n",
    "}\n",
    "\n",
    "mlflow.xgboost.autolog()\n",
    "\n",
    "booster = xgb.train(\n",
    "    params=params,\n",
    "    dtrain=train,\n",
    "    num_boost_round=100,\n",
    "    evals=[(valid, \"validation\")],\n",
    "    early_stopping_rounds=5\n",
    ")\n"
   ]
  },
  {
   "cell_type": "code",
   "execution_count": 47,
   "id": "ed5e6e2b",
   "metadata": {},
   "outputs": [],
   "source": [
    "mlflow.xgboost.autolog(disable=True)"
   ]
  },
  {
   "cell_type": "code",
   "execution_count": 48,
   "id": "fbc254f4",
   "metadata": {},
   "outputs": [
    {
     "name": "stdout",
     "output_type": "stream",
     "text": [
      "[13:05:52] WARNING: /Users/runner/work/xgboost/xgboost/python-package/build/temp.macosx-10.9-x86_64-cpython-38/xgboost/src/objective/regression_obj.cu:213: reg:linear is now deprecated in favor of reg:squarederror.\n",
      "[0]\tvalidation-rmse:10.87516\n",
      "[1]\tvalidation-rmse:7.80985\n",
      "[2]\tvalidation-rmse:7.02128\n",
      "[3]\tvalidation-rmse:6.79708\n",
      "[4]\tvalidation-rmse:6.72751\n",
      "[5]\tvalidation-rmse:6.69997\n",
      "[6]\tvalidation-rmse:6.67856\n",
      "[7]\tvalidation-rmse:6.67478\n",
      "[8]\tvalidation-rmse:6.66756\n",
      "[9]\tvalidation-rmse:6.66263\n",
      "[10]\tvalidation-rmse:6.65794\n",
      "[11]\tvalidation-rmse:6.65468\n",
      "[12]\tvalidation-rmse:6.65199\n",
      "[13]\tvalidation-rmse:6.64891\n",
      "[14]\tvalidation-rmse:6.64806\n",
      "[15]\tvalidation-rmse:6.64412\n",
      "[16]\tvalidation-rmse:6.64108\n",
      "[17]\tvalidation-rmse:6.63944\n",
      "[18]\tvalidation-rmse:6.63702\n",
      "[19]\tvalidation-rmse:6.63520\n",
      "[20]\tvalidation-rmse:6.63393\n",
      "[21]\tvalidation-rmse:6.62814\n",
      "[22]\tvalidation-rmse:6.62537\n",
      "[23]\tvalidation-rmse:6.62062\n",
      "[24]\tvalidation-rmse:6.61699\n",
      "[25]\tvalidation-rmse:6.61386\n",
      "[26]\tvalidation-rmse:6.60975\n",
      "[27]\tvalidation-rmse:6.60857\n",
      "[28]\tvalidation-rmse:6.60454\n",
      "[29]\tvalidation-rmse:6.60335\n",
      "[30]\tvalidation-rmse:6.59661\n",
      "[31]\tvalidation-rmse:6.59379\n",
      "[32]\tvalidation-rmse:6.59304\n",
      "[33]\tvalidation-rmse:6.59224\n",
      "[34]\tvalidation-rmse:6.58960\n",
      "[35]\tvalidation-rmse:6.58809\n",
      "[36]\tvalidation-rmse:6.58570\n",
      "[37]\tvalidation-rmse:6.58436\n",
      "[38]\tvalidation-rmse:6.58054\n",
      "[39]\tvalidation-rmse:6.57973\n",
      "[40]\tvalidation-rmse:6.57893\n",
      "[41]\tvalidation-rmse:6.57670\n",
      "[42]\tvalidation-rmse:6.57485\n",
      "[43]\tvalidation-rmse:6.57290\n",
      "[44]\tvalidation-rmse:6.57251\n",
      "[45]\tvalidation-rmse:6.56961\n",
      "[46]\tvalidation-rmse:6.56707\n",
      "[47]\tvalidation-rmse:6.56574\n",
      "[48]\tvalidation-rmse:6.56439\n",
      "[49]\tvalidation-rmse:6.56234\n",
      "[50]\tvalidation-rmse:6.56040\n",
      "[51]\tvalidation-rmse:6.55936\n",
      "[52]\tvalidation-rmse:6.55808\n",
      "[53]\tvalidation-rmse:6.55610\n",
      "[54]\tvalidation-rmse:6.55399\n",
      "[55]\tvalidation-rmse:6.55281\n",
      "[56]\tvalidation-rmse:6.55031\n",
      "[57]\tvalidation-rmse:6.54915\n",
      "[58]\tvalidation-rmse:6.54861\n",
      "[59]\tvalidation-rmse:6.54713\n",
      "[60]\tvalidation-rmse:6.54603\n",
      "[61]\tvalidation-rmse:6.54498\n",
      "[62]\tvalidation-rmse:6.54406\n",
      "[63]\tvalidation-rmse:6.54301\n",
      "[64]\tvalidation-rmse:6.54246\n",
      "[65]\tvalidation-rmse:6.54229\n",
      "[66]\tvalidation-rmse:6.54079\n",
      "[67]\tvalidation-rmse:6.53960\n",
      "[68]\tvalidation-rmse:6.53776\n",
      "[69]\tvalidation-rmse:6.53710\n",
      "[70]\tvalidation-rmse:6.53621\n",
      "[71]\tvalidation-rmse:6.53477\n",
      "[72]\tvalidation-rmse:6.53321\n",
      "[73]\tvalidation-rmse:6.53162\n",
      "[74]\tvalidation-rmse:6.53045\n",
      "[75]\tvalidation-rmse:6.52904\n",
      "[76]\tvalidation-rmse:6.52854\n",
      "[77]\tvalidation-rmse:6.52618\n",
      "[78]\tvalidation-rmse:6.52419\n",
      "[79]\tvalidation-rmse:6.52154\n",
      "[80]\tvalidation-rmse:6.51980\n",
      "[81]\tvalidation-rmse:6.51838\n",
      "[82]\tvalidation-rmse:6.51489\n",
      "[83]\tvalidation-rmse:6.51236\n",
      "[84]\tvalidation-rmse:6.51043\n",
      "[85]\tvalidation-rmse:6.51125\n",
      "[86]\tvalidation-rmse:6.50924\n",
      "[87]\tvalidation-rmse:6.50685\n",
      "[88]\tvalidation-rmse:6.50570\n",
      "[89]\tvalidation-rmse:6.50425\n",
      "[90]\tvalidation-rmse:6.50291\n",
      "[91]\tvalidation-rmse:6.50090\n",
      "[92]\tvalidation-rmse:6.49946\n",
      "[93]\tvalidation-rmse:6.49840\n",
      "[94]\tvalidation-rmse:6.49741\n",
      "[95]\tvalidation-rmse:6.49788\n",
      "[96]\tvalidation-rmse:6.49713\n",
      "[97]\tvalidation-rmse:6.49669\n",
      "[98]\tvalidation-rmse:6.49567\n",
      "[99]\tvalidation-rmse:6.49433\n"
     ]
    }
   ],
   "source": [
    "with mlflow.start_run():\n",
    "    train = xgb.DMatrix(X_train, label=y_train)\n",
    "    valid = xgb.DMatrix(X_val, label=y_val)\n",
    "    \n",
    "    best_params = {\n",
    "        'learning_rate':0.6127926351839442,\n",
    "        'max_depth': 7,\n",
    "        'min_child_weight': 1.0692866548579312,\n",
    "        'objective': 'reg:linear',\n",
    "        'reg_alpha': 0.13823297640386678,\n",
    "        'reg_lambda': 0.005984355718193455,\n",
    "        'seed': 42\n",
    "    }\n",
    "    \n",
    "    mlflow.log_params(best_params)\n",
    "    \n",
    "    booster = xgb.train(\n",
    "        params=params,\n",
    "        dtrain=train,\n",
    "        num_boost_round=100,\n",
    "        evals=[(valid, \"validation\")],\n",
    "        early_stopping_rounds=5\n",
    "    )\n",
    "    \n",
    "    y_pred = booster.predict(valid)\n",
    "    rmse = mean_squared_error(y_val, y_pred, squared=False)\n",
    "    mlflow.log_metric(\"rmse\", rmse)\n",
    "    \n",
    "    with open(\"models/preprocessor.b\", \"wb\") as f_out:\n",
    "        pickle.dump(dv, f_out)\n",
    "    \n",
    "    mlflow.log_artifact('models/preprocessor.b', artifact_path=\"preprocessor\")\n",
    "    \n",
    "    mlflow.xgboost.log_model(booster, artifact_path=\"models_mlflow\")\n",
    "    "
   ]
  },
  {
   "cell_type": "code",
   "execution_count": 49,
   "id": "869cca34",
   "metadata": {},
   "outputs": [
    {
     "name": "stderr",
     "output_type": "stream",
     "text": [
      "2023/05/25 13:08:53 WARNING mlflow.pyfunc: Detected one or more mismatches between the model's dependencies and the current Python environment:\n",
      " - mlflow (current: 2.3.2, required: mlflow==2.3)\n",
      "To fix the mismatches, call `mlflow.pyfunc.get_model_dependencies(model_uri)` to fetch the model's environment and install dependencies using the resulting environment file.\n"
     ]
    },
    {
     "name": "stdout",
     "output_type": "stream",
     "text": [
      "[13:08:54] WARNING: /Users/runner/work/xgboost/xgboost/python-package/build/temp.macosx-10.9-x86_64-cpython-38/xgboost/src/objective/regression_obj.cu:213: reg:linear is now deprecated in favor of reg:squarederror.\n"
     ]
    }
   ],
   "source": [
    "logged_model = 'runs:/c00ca5ecfd664afab73d998779a6e9b1/models_mlflow'\n",
    "\n",
    "# Load model as a PyFuncModel.\n",
    "loaded_model = mlflow.pyfunc.load_model(logged_model)\n",
    "\n"
   ]
  },
  {
   "cell_type": "code",
   "execution_count": 50,
   "id": "3d6fca35",
   "metadata": {},
   "outputs": [
    {
     "data": {
      "text/plain": [
       "mlflow.pyfunc.loaded_model:\n",
       "  artifact_path: models_mlflow\n",
       "  flavor: mlflow.xgboost\n",
       "  run_id: c00ca5ecfd664afab73d998779a6e9b1"
      ]
     },
     "execution_count": 50,
     "metadata": {},
     "output_type": "execute_result"
    }
   ],
   "source": [
    "loaded_model"
   ]
  },
  {
   "cell_type": "code",
   "execution_count": 53,
   "id": "d6740271",
   "metadata": {},
   "outputs": [
    {
     "name": "stdout",
     "output_type": "stream",
     "text": [
      "[13:16:22] WARNING: /Users/runner/work/xgboost/xgboost/python-package/build/temp.macosx-10.9-x86_64-cpython-38/xgboost/src/objective/regression_obj.cu:213: reg:linear is now deprecated in favor of reg:squarederror.\n"
     ]
    }
   ],
   "source": [
    "xgboost_model = mlflow.xgboost.load_model(logged_model)"
   ]
  },
  {
   "cell_type": "code",
   "execution_count": 54,
   "id": "05852aba",
   "metadata": {},
   "outputs": [
    {
     "data": {
      "text/plain": [
       "<xgboost.core.Booster at 0x7fcd6c5a0790>"
      ]
     },
     "execution_count": 54,
     "metadata": {},
     "output_type": "execute_result"
    }
   ],
   "source": [
    "xgboost_model"
   ]
  },
  {
   "cell_type": "code",
   "execution_count": 55,
   "id": "fd602ea9",
   "metadata": {},
   "outputs": [],
   "source": [
    "y_pred = xgboost_model.predict(valid)"
   ]
  },
  {
   "cell_type": "code",
   "execution_count": 56,
   "id": "eb727ca6",
   "metadata": {},
   "outputs": [
    {
     "data": {
      "text/plain": [
       "array([16.39159  ,  6.9966426, 15.4420395, 24.553602 ,  9.19681  ,\n",
       "       17.379328 , 14.191267 ,  9.149889 ,  8.868816 , 18.87749  ],\n",
       "      dtype=float32)"
      ]
     },
     "execution_count": 56,
     "metadata": {},
     "output_type": "execute_result"
    }
   ],
   "source": [
    "y_pred[:10]"
   ]
  },
  {
   "cell_type": "code",
   "execution_count": null,
   "id": "ff164910",
   "metadata": {},
   "outputs": [],
   "source": []
  }
 ],
 "metadata": {
  "kernelspec": {
   "display_name": "Python 3 (ipykernel)",
   "language": "python",
   "name": "python3"
  },
  "language_info": {
   "codemirror_mode": {
    "name": "ipython",
    "version": 3
   },
   "file_extension": ".py",
   "mimetype": "text/x-python",
   "name": "python",
   "nbconvert_exporter": "python",
   "pygments_lexer": "ipython3",
   "version": "3.10.7"
  }
 },
 "nbformat": 4,
 "nbformat_minor": 5
}
